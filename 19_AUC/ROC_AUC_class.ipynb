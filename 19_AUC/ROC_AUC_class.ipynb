{
 "cells": [
  {
   "cell_type": "code",
   "execution_count": 4,
   "metadata": {},
   "outputs": [],
   "source": [
    "# Loading Libraries\n",
    "\n",
    "import pandas as pd\n",
    "from matplotlib import pyplot as plt\n",
    "%matplotlib inline\n",
    "from sklearn.model_selection import train_test_split\n",
    "from sklearn.linear_model import LogisticRegression\n",
    "from sklearn.ensemble import RandomForestClassifier\n",
    "from sklearn.ensemble import AdaBoostClassifier\n",
    "from sklearn.neighbors import KNeighborsClassifier\n",
    "from sklearn.metrics import accuracy_score"
   ]
  },
  {
   "cell_type": "code",
   "execution_count": 2,
   "metadata": {},
   "outputs": [],
   "source": [
    "data = pd.read_csv(r\"E:\\AI\\LibrariesForAI\\Supervised_Learning\\9_Logistic_Regression_multiclass\\breast_cancer_data.csv\")\n",
    "data.drop(['id','Unnamed: 32'],axis=1,inplace=True)\n",
    "# map function for mapping benign into 0 and malignant into 1\n",
    "data['diagnosis'] = data['diagnosis'].map({'B':0,'M':1})\n",
    "\n",
    "X=data.drop(['diagnosis'],axis=1)\n",
    "y=data['diagnosis']\n",
    "\n",
    "X_train, X_test, y_train, y_test = train_test_split(X, y, test_size=0.33,random_state=42)"
   ]
  },
  {
   "cell_type": "code",
   "execution_count": 6,
   "metadata": {},
   "outputs": [],
   "source": [
    "from sklearn.metrics import roc_curve\n",
    "from sklearn.metrics import roc_auc_score"
   ]
  },
  {
   "cell_type": "code",
   "execution_count": 12,
   "metadata": {},
   "outputs": [
    {
     "name": "stdout",
     "output_type": "stream",
     "text": [
      "RF training ROC- AUC Accuarcy is : 1.0\n",
      "RF test ROC- AUC Accuarcy is : 0.9956827433082521\n"
     ]
    }
   ],
   "source": [
    "# Random Forest\n",
    "rf_model = RandomForestClassifier()\n",
    "rf_model.fit(X_train,y_train)\n",
    "ytrain_pred=rf_model.predict_proba(X_train)\n",
    "\n",
    "print(f\"RF training ROC- AUC Accuarcy is : {roc_auc_score(y_train,ytrain_pred[:,1])}\")\n",
    "ytest_prob = rf_model.predict_proba(X_test)\n",
    "print(f\"RF test ROC- AUC Accuarcy is : {roc_auc_score(y_test,ytest_prob[:,1])}\")"
   ]
  },
  {
   "cell_type": "code",
   "execution_count": 13,
   "metadata": {},
   "outputs": [
    {
     "name": "stdout",
     "output_type": "stream",
     "text": [
      "Logistic Reg training ROC- AUC Accuarcy is : 0.9931911163062537\n",
      "Logistic Reg  test ROC- AUC Accuarcy is : 0.9975329961761441\n"
     ]
    },
    {
     "name": "stderr",
     "output_type": "stream",
     "text": [
      "c:\\Users\\dell pc\\anaconda3\\lib\\site-packages\\sklearn\\linear_model\\_logistic.py:814: ConvergenceWarning: lbfgs failed to converge (status=1):\n",
      "STOP: TOTAL NO. of ITERATIONS REACHED LIMIT.\n",
      "\n",
      "Increase the number of iterations (max_iter) or scale the data as shown in:\n",
      "    https://scikit-learn.org/stable/modules/preprocessing.html\n",
      "Please also refer to the documentation for alternative solver options:\n",
      "    https://scikit-learn.org/stable/modules/linear_model.html#logistic-regression\n",
      "  n_iter_i = _check_optimize_result(\n"
     ]
    }
   ],
   "source": [
    "# Logistic Regression \n",
    "log_model = LogisticRegression()\n",
    "log_model.fit(X_train,y_train)\n",
    "ytrain_pred=log_model.predict_proba(X_train)\n",
    "\n",
    "print(f\"Logistic Reg training ROC- AUC Accuarcy is : {roc_auc_score(y_train,ytrain_pred[:,1])}\")\n",
    "ytest_prob = log_model.predict_proba(X_test)\n",
    "print(f\"Logistic Reg  test ROC- AUC Accuarcy is : {roc_auc_score(y_test,ytest_prob[:,1])}\")"
   ]
  },
  {
   "cell_type": "code",
   "execution_count": 14,
   "metadata": {},
   "outputs": [
    {
     "name": "stdout",
     "output_type": "stream",
     "text": [
      "Adaboost training ROC- AUC Accuarcy is : 1.0\n",
      "Adaboost   test ROC- AUC Accuarcy is : 0.9861847785864069\n"
     ]
    }
   ],
   "source": [
    "# Adaboost Classifier\n",
    "#  \n",
    "ada_model = AdaBoostClassifier()\n",
    "ada_model.fit(X_train,y_train)\n",
    "ytrain_pred=ada_model.predict_proba(X_train)\n",
    "\n",
    "print(f\"Adaboost training ROC- AUC Accuarcy is : {roc_auc_score(y_train,ytrain_pred[:,1])}\")\n",
    "ytest_prob = ada_model.predict_proba(X_test)\n",
    "print(f\"Adaboost   test ROC- AUC Accuarcy is : {roc_auc_score(y_test,ytest_prob[:,1])}\")"
   ]
  },
  {
   "cell_type": "code",
   "execution_count": 23,
   "metadata": {},
   "outputs": [
    {
     "name": "stdout",
     "output_type": "stream",
     "text": [
      "Adaboost training ROC- AUC Accuarcy is : 0.9851548801870251\n",
      "Adaboost   test ROC- AUC Accuarcy is : 0.9929690391020106\n"
     ]
    }
   ],
   "source": [
    "# KNN Classifier\n",
    "#  \n",
    "knn_model = KNeighborsClassifier()\n",
    "knn_model.fit(X_train,y_train)\n",
    "ytrain_pred=knn_model.predict_proba(X_train)\n",
    "\n",
    "print(f\"Adaboost training ROC- AUC Accuarcy is : {roc_auc_score(y_train,ytrain_pred[:,1])}\")\n",
    "ytest_prob = knn_model.predict_proba(X_test)\n",
    "print(f\"Adaboost   test ROC- AUC Accuarcy is : {roc_auc_score(y_test,ytest_prob[:,1])}\")"
   ]
  },
  {
   "cell_type": "code",
   "execution_count": 47,
   "metadata": {},
   "outputs": [],
   "source": [
    "pred =[]\n",
    "for model in [rf_model,log_model,ada_model,knn_model]:\n",
    "   pred.append(pd.Series(model.predict_proba(X_test)[:,1]))\n",
    "\n",
    "final_prediction = pd.concat(pred,axis=1).mean(axis=1)"
   ]
  },
  {
   "cell_type": "code",
   "execution_count": null,
   "metadata": {},
   "outputs": [],
   "source": []
  },
  {
   "cell_type": "code",
   "execution_count": 48,
   "metadata": {},
   "outputs": [
    {
     "data": {
      "text/plain": [
       "0      0.255337\n",
       "1      0.956190\n",
       "2      0.916487\n",
       "3      0.096471\n",
       "4      0.051968\n",
       "         ...   \n",
       "183    0.887628\n",
       "184    0.943512\n",
       "185    0.831874\n",
       "186    0.557179\n",
       "187    0.097301\n",
       "Length: 188, dtype: float64"
      ]
     },
     "execution_count": 48,
     "metadata": {},
     "output_type": "execute_result"
    }
   ],
   "source": [
    "final_prediction\n"
   ]
  },
  {
   "cell_type": "code",
   "execution_count": 49,
   "metadata": {},
   "outputs": [],
   "source": [
    "# calculate the ROC curve \n",
    "fpr, tpr, thresholds = roc_curve(y_test,final_prediction)"
   ]
  },
  {
   "cell_type": "code",
   "execution_count": 53,
   "metadata": {},
   "outputs": [
    {
     "data": {
      "text/plain": [
       "array([1.96164804, 0.96164804, 0.60505237, 0.55717902, 0.51913308,\n",
       "       0.51508798, 0.48473507, 0.33019899, 0.29866769, 0.05196831])"
      ]
     },
     "execution_count": 53,
     "metadata": {},
     "output_type": "execute_result"
    }
   ],
   "source": [
    "thresholds"
   ]
  },
  {
   "cell_type": "code",
   "execution_count": 59,
   "metadata": {},
   "outputs": [
    {
     "data": {
      "text/plain": [
       "0      0.255337\n",
       "1      0.956190\n",
       "2      0.916487\n",
       "3      0.096471\n",
       "4      0.051968\n",
       "         ...   \n",
       "183    0.887628\n",
       "184    0.943512\n",
       "185    0.831874\n",
       "186    0.557179\n",
       "187    0.097301\n",
       "Length: 188, dtype: float64"
      ]
     },
     "execution_count": 59,
     "metadata": {},
     "output_type": "execute_result"
    }
   ],
   "source": [
    "final_prediction"
   ]
  },
  {
   "cell_type": "code",
   "execution_count": 64,
   "metadata": {},
   "outputs": [
    {
     "data": {
      "text/plain": [
       "array([1.96164804, 0.96164804, 0.60505237, 0.55717902, 0.51913308,\n",
       "       0.51508798, 0.48473507, 0.33019899, 0.29866769, 0.05196831])"
      ]
     },
     "execution_count": 64,
     "metadata": {},
     "output_type": "execute_result"
    }
   ],
   "source": [
    "thresholds\n"
   ]
  },
  {
   "cell_type": "code",
   "execution_count": 57,
   "metadata": {},
   "outputs": [],
   "source": [
    "accuracy_ls=[]\n",
    "\n",
    "for thres in thresholds:\n",
    "    y_pred = np.where(final_prediction>thres,1,0)\n",
    "    accuracy_ls.append(accuracy_score(y_test,y_pred))"
   ]
  },
  {
   "cell_type": "code",
   "execution_count": 67,
   "metadata": {},
   "outputs": [],
   "source": [
    "acc_list = pd.concat([pd.Series(thresholds),pd.Series(accuracy_ls)],axis=1)\n",
    "acc_list.columns =['Threshold','Accuarcy']\n",
    "acc_list.sort_values(by='Accuarcy',ascending=False,inplace=True)\n"
   ]
  },
  {
   "cell_type": "code",
   "execution_count": 68,
   "metadata": {},
   "outputs": [
    {
     "data": {
      "text/html": [
       "<div>\n",
       "<style scoped>\n",
       "    .dataframe tbody tr th:only-of-type {\n",
       "        vertical-align: middle;\n",
       "    }\n",
       "\n",
       "    .dataframe tbody tr th {\n",
       "        vertical-align: top;\n",
       "    }\n",
       "\n",
       "    .dataframe thead th {\n",
       "        text-align: right;\n",
       "    }\n",
       "</style>\n",
       "<table border=\"1\" class=\"dataframe\">\n",
       "  <thead>\n",
       "    <tr style=\"text-align: right;\">\n",
       "      <th></th>\n",
       "      <th>Threshold</th>\n",
       "      <th>Accuarcy</th>\n",
       "    </tr>\n",
       "  </thead>\n",
       "  <tbody>\n",
       "    <tr>\n",
       "      <th>3</th>\n",
       "      <td>0.557179</td>\n",
       "      <td>0.984043</td>\n",
       "    </tr>\n",
       "    <tr>\n",
       "      <th>5</th>\n",
       "      <td>0.515088</td>\n",
       "      <td>0.984043</td>\n",
       "    </tr>\n",
       "    <tr>\n",
       "      <th>2</th>\n",
       "      <td>0.605052</td>\n",
       "      <td>0.978723</td>\n",
       "    </tr>\n",
       "    <tr>\n",
       "      <th>4</th>\n",
       "      <td>0.519133</td>\n",
       "      <td>0.978723</td>\n",
       "    </tr>\n",
       "    <tr>\n",
       "      <th>6</th>\n",
       "      <td>0.484735</td>\n",
       "      <td>0.978723</td>\n",
       "    </tr>\n",
       "    <tr>\n",
       "      <th>7</th>\n",
       "      <td>0.330199</td>\n",
       "      <td>0.952128</td>\n",
       "    </tr>\n",
       "    <tr>\n",
       "      <th>8</th>\n",
       "      <td>0.298668</td>\n",
       "      <td>0.946809</td>\n",
       "    </tr>\n",
       "    <tr>\n",
       "      <th>0</th>\n",
       "      <td>1.961648</td>\n",
       "      <td>0.643617</td>\n",
       "    </tr>\n",
       "    <tr>\n",
       "      <th>1</th>\n",
       "      <td>0.961648</td>\n",
       "      <td>0.643617</td>\n",
       "    </tr>\n",
       "    <tr>\n",
       "      <th>9</th>\n",
       "      <td>0.051968</td>\n",
       "      <td>0.361702</td>\n",
       "    </tr>\n",
       "  </tbody>\n",
       "</table>\n",
       "</div>"
      ],
      "text/plain": [
       "   Threshold  Accuarcy\n",
       "3   0.557179  0.984043\n",
       "5   0.515088  0.984043\n",
       "2   0.605052  0.978723\n",
       "4   0.519133  0.978723\n",
       "6   0.484735  0.978723\n",
       "7   0.330199  0.952128\n",
       "8   0.298668  0.946809\n",
       "0   1.961648  0.643617\n",
       "1   0.961648  0.643617\n",
       "9   0.051968  0.361702"
      ]
     },
     "execution_count": 68,
     "metadata": {},
     "output_type": "execute_result"
    }
   ],
   "source": [
    "acc_list"
   ]
  },
  {
   "cell_type": "code",
   "execution_count": null,
   "metadata": {},
   "outputs": [],
   "source": []
  }
 ],
 "metadata": {
  "kernelspec": {
   "display_name": "Python 3.8.5 ('base')",
   "language": "python",
   "name": "python3"
  },
  "language_info": {
   "codemirror_mode": {
    "name": "ipython",
    "version": 3
   },
   "file_extension": ".py",
   "mimetype": "text/x-python",
   "name": "python",
   "nbconvert_exporter": "python",
   "pygments_lexer": "ipython3",
   "version": "3.8.5"
  },
  "orig_nbformat": 4,
  "vscode": {
   "interpreter": {
    "hash": "3b247508765d00b3b26798f5d8c18a0fcbaae728c8c4ba498590e0d03452de11"
   }
  }
 },
 "nbformat": 4,
 "nbformat_minor": 2
}
